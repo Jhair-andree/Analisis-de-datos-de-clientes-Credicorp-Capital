{
  "nbformat": 4,
  "nbformat_minor": 0,
  "metadata": {
    "colab": {
      "name": "What is Python? - Qué es Python.ipynb",
      "provenance": []
    },
    "kernelspec": {
      "name": "python3",
      "display_name": "Python 3"
    },
    "language_info": {
      "name": "python"
    }
  },
  "cells": [
    {
      "cell_type": "markdown",
      "source": [
        "#What is Python? - Qué es Python?\n",
        "What is Python? Is a very interasting question, so, Pythons is a programming language in which you can do diferents things from making videogames, basic math, etc.. but the great power in Python is everything related with Data Science and IA"
      ],
      "metadata": {
        "id": "sApq4HnMxb-N"
      }
    },
    {
      "cell_type": "markdown",
      "source": [
        "##Principal advantages with Python\n",
        "- Because the code is automatically compiled to byte code and executed, Python is suitable for use as a scripting language.\n",
        "- Python can be extend with others programming languages like C, C++, R, etc.. and that is perfect for intensive tasks\n",
        "- Because of its strong structuring constructs (nested code blocks, functions, classes, modules, and packages), ideal for shorts and large tasks \n",
        "- Python and the objects magic! Pythons provides a consistent way to use objects. In Python evrtyhing can be a object!\n",
        "In Python it is easy to implement new object types (called classes in object-oriented programming)\n",
        "##Some things you will thanks know later\n",
        "-Python uses indentation to show block structure. Indent one level to show the beginning of a block. Out-dent one level to show the end of a block.\n",
        "-Python is the \"IA king\"\n",
        "-Python not is the best for make videogames but the stattistics aplicattions uff!\n",
        "-Python is a scripting language, suitable, embedding, ideal for small unstructured scripts most especific, for \"quick and dirty\" programs but! this is not refers a bad script with a bad syntax"
      ],
      "metadata": {
        "id": "GNvY5VCe07U7"
      }
    }
  ]
}