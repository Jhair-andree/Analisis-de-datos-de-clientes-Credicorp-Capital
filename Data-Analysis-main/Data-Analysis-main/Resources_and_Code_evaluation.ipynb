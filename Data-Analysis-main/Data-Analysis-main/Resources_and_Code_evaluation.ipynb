{
  "nbformat": 4,
  "nbformat_minor": 0,
  "metadata": {
    "colab": {
      "name": "Resources and Code evaluation.ipynb",
      "provenance": []
    },
    "kernelspec": {
      "name": "python3",
      "display_name": "Python 3"
    },
    "language_info": {
      "name": "python"
    }
  },
  "cells": [
    {
      "cell_type": "markdown",
      "source": [
        "#Resources"
      ],
      "metadata": {
        "id": "8bONu0CpxBk4"
      }
    },
    {
      "cell_type": "code",
      "source": [
        "#The comments, as you may have noticed is with the # operator\n",
        "##But the double operator ## allows comments of block codes usually"
      ],
      "metadata": {
        "id": "ZM6PTkoWyrX_"
      },
      "execution_count": 7,
      "outputs": []
    },
    {
      "cell_type": "code",
      "execution_count": 4,
      "metadata": {
        "id": "LLtlYncLvww4"
      },
      "outputs": [],
      "source": [
        "#The question mark gives help.\n",
        "#Example:\n",
        "open?"
      ]
    },
    {
      "cell_type": "code",
      "source": [
        "#Naming conventions, not rigids but\n",
        "\n",
        "#Modules and packages - All in lower case\n",
        "#Globals and constant - All in upper case\n",
        "#Classes - Initial upper in bumpy caps\n",
        "#Method (action the object can perform) and functions (a tool can be built to develop a certain goal) - All lower case  with  words by underscores\n",
        "#Local variables - Lower case"
      ],
      "metadata": {
        "id": "9vzaykY1z1f8"
      },
      "execution_count": 9,
      "outputs": []
    },
    {
      "cell_type": "code",
      "source": [
        "#Blocks and indentation\n",
        "\n",
        "#Python represents block structures and nested block structure with indentation , not begin and end brackets unlike other programming languages\n",
        "#is better the indentation use for the comfort, but we need know the indentation benefits first\n",
        "#(in python the indentation is with 4 spaces, remeber, spaces, not tabs)\n",
        "#Reduces incossitency. Code from different sources follow the same style\n",
        "#Reduces work\n",
        "#Reduces clutter"
      ],
      "metadata": {
        "id": "NPYxu-Su6fBq"
      },
      "execution_count": 14,
      "outputs": []
    },
    {
      "cell_type": "code",
      "source": [
        "###Operators\n",
        "#Operators                                      Description\n",
        "\n",
        "###############################################################################\n",
        "\n",
        "#+                                              Adittion\n",
        "#-                                              Substraction\n",
        "#*                                              Multiplication\n",
        "#**                                             Exponentiation\n",
        "#%                                              Division\n",
        "#&                                              Bitwise AND\n",
        "#|                                              Bitwise OR\n",
        "#!=                                             Comparison\n",
        "#<                                              Comparison\n",
        "#>                                              Comparison\n",
        "#=>                                             Comparison\n",
        "#=<                                             Comparison\n",
        "\n",
        "##Logical Operators\n",
        "#and                                            Boolean AND\n",
        "#or                                             Boolean OR\n",
        "#is                                             Identity test\n",
        "#not                                            Identity test\n",
        "#in                                             Identity test\n",
        "\n",
        "#x.atributte                                    Atributte reference\n",
        "#x[index]                                       Subscription\n",
        "#x[index:index]                                 Slicing\n",
        "#f(arguments)                                   Function call\n",
        "#(expressions)                                  Tuple display or binding (a collection of data whose order is unalterable, that is, \n",
        "#                                               they are elements ordered in a specific sequence and that have importance.)\n",
        "#[expressions]                                  List display (a data structure made up of an ordered sequence of objects.\n",
        "#                                               The elements of a list can be accessed by their index)\n",
        "#{key:datum}                                    Dictionary display (Dictionaries in Python allow us to store a series of mappings between two sets of elements)\n",
        "#'expression'                                   String conversion\n",
        "\n",
        "#For most pro tips, the next internet places\n",
        "#Code Like  a Pythonista\n",
        "#Style Guide For Python Code\n"
      ],
      "metadata": {
        "id": "7OX8YDurBsHm"
      },
      "execution_count": 13,
      "outputs": []
    },
    {
      "cell_type": "markdown",
      "source": [
        "#Code evaluation\n",
        "How Python evaluates and executes your code? Evaluating expressions\n",
        "creating names/variables -- Binding --\n",
        "The following  all create names (variables) and bind values (objects) to them: \n",
        "(1) assignment\n",
        "(2) function definition\n",
        "(3) class definition\n",
        "(4) function and method call\n",
        "(5) importing a module\n",
        "\n",
        "##Other things for the great final\n",
        "First class objects -- Almost all objects in Python are first class.\n",
        "Definition: An object is first class if: \n",
        "(1) we can put it in a structured object\n",
        "(2)we can pass it to a function\n",
        "(3)we can return it from a function\n",
        "\n",
        "References -- Objects (or references to them ) can be shared. What does this mean?\n",
        "- The object(s) satisfy the identity test operator is\n",
        "-The built- in function id () returns the same value\n",
        "-The consequences for mutable objects are different from those for inmutable objects\n",
        "-Updating a mutable object referenced through one variable or container also changes that object referenced through other variables or containers, because it is the same object"
      ],
      "metadata": {
        "id": "z-pZgy3JIc7H"
      }
    }
  ]
}